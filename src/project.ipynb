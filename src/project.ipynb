{
 "cells": [
  {
   "cell_type": "markdown",
   "id": "aabc0d94",
   "metadata": {},
   "source": [
    "# Imports"
   ]
  },
  {
   "cell_type": "code",
   "execution_count": null,
   "id": "d26ba739",
   "metadata": {},
   "outputs": [],
   "source": [
    "import os\n",
    "import re\n",
    "import json\n",
    "import itertools\n",
    "import numpy as np\n",
    "import cv2"
   ]
  },
  {
   "cell_type": "markdown",
   "id": "942ebd10",
   "metadata": {},
   "source": [
    "# Setup"
   ]
  },
  {
   "cell_type": "code",
   "execution_count": null,
   "id": "f4f54bd5",
   "metadata": {},
   "outputs": [],
   "source": [
    "DATA_DIR = '../data'\n",
    "OUTPUT_DIR = '../processed'\n",
    "MASK_DIR = '../masks'\n",
    "TILE_DIR = '../tiles'\n",
    "JSON_EXT = 'json'\n",
    "IMAGE_EXT = 'JPG'\n",
    "PLANT_TYPE = 'ERFA'\n",
    "TILE_SIZE = 256\n",
    "TILE_OVERLAP = 0.25"
   ]
  },
  {
   "cell_type": "code",
   "execution_count": null,
   "id": "3c9491b7",
   "metadata": {},
   "outputs": [],
   "source": [
    "experiment_sample_names = {\n",
    "    os.path.basename(root): [sample for sample, ext in map(os.path.splitext, files) if ext == f'.{JSON_EXT}']\n",
    "    for root, dirs, files in os.walk(DATA_DIR)\n",
    "    if root != DATA_DIR\n",
    "}"
   ]
  },
  {
   "cell_type": "markdown",
   "id": "2a7cdd53",
   "metadata": {},
   "source": [
    "# Data Processing"
   ]
  },
  {
   "cell_type": "code",
   "execution_count": null,
   "id": "276e1522",
   "metadata": {},
   "outputs": [],
   "source": [
    "def get_sample_image(experiment_name, sample_name):\n",
    "    image_name = re.split(r' \\(\\d\\)', sample_name)[0]\n",
    "    return cv2.imread(f'{DATA_DIR}/{experiment_name}/{image_name}.{IMAGE_EXT}')\n",
    "\n",
    "def write_image(image, path):\n",
    "    written = cv2.imwrite(path, image)\n",
    "    if not written:\n",
    "        print(f'  Failed to write: {path}')\n",
    "\n",
    "def get_sample_data(experiment_name, sample_name):\n",
    "    with open(f'{DATA_DIR}/{experiment_name}/{sample_name}.{JSON_EXT}') as f:\n",
    "        return json.load(f)\n",
    "\n",
    "def write_sample_data(output_data, output_dir, sample):\n",
    "    with open(f'{output_dir}/{sample}.{JSON_EXT}', 'w') as f:\n",
    "        json.dump(output_data, f)"
   ]
  },
  {
   "cell_type": "code",
   "execution_count": null,
   "id": "537a3d3b",
   "metadata": {},
   "outputs": [],
   "source": [
    "def add_annotation(image, boundary, bbox, plant_id, color=(0, 0, 255), thickness=8):\n",
    "    x_min, y_min, x_max, y_max = bbox\n",
    "    pos = ((x_max+x_min)//2, (y_max+y_min)//2)\n",
    "    cv2.polylines(image, boundary, isClosed=True, color=color, thickness=thickness)\n",
    "    cv2.putText(image, str(plant_id), pos, fontFace=0, fontScale=3, color=color, thickness=thickness)"
   ]
  },
  {
   "cell_type": "code",
   "execution_count": null,
   "id": "043d399c",
   "metadata": {},
   "outputs": [],
   "source": [
    "def get_boundary_polygon(plant_data):\n",
    "    boundary_flat = plant_data['segment']\n",
    "    boundary_points = np.reshape(boundary_flat, (len(boundary_flat) // 2, 2))\n",
    "    return np.int32([boundary_points])\n",
    "\n",
    "def get_bounding_box(mask):\n",
    "    # Adapted from https://stackoverflow.com/questions/31400769/bounding-box-of-numpy-array\n",
    "    cols = np.any(mask, axis=0)\n",
    "    rows = np.any(mask, axis=1)\n",
    "    x_min, x_max = np.where(cols)[0][[0, -1]]\n",
    "    y_min, y_max = np.where(rows)[0][[0, -1]]\n",
    "    return [int(n) for n in [x_min, y_min, x_max, y_max]]\n",
    "\n",
    "def mask_crop_image(image, mask, bbox):\n",
    "    x_min, y_min, x_max, y_max = bbox\n",
    "    mask_cropped = mask[y_min:y_max, x_min:x_max]\n",
    "    mask_cropped_bgr = np.repeat(mask_cropped[:, :, np.newaxis], 3, axis=2)\n",
    "    masked_cropped = image[y_min:y_max, x_min:x_max,:] * (mask_cropped_bgr / 255)\n",
    "    return mask_cropped, masked_cropped"
   ]
  },
  {
   "cell_type": "code",
   "execution_count": null,
   "id": "3a6a6edb",
   "metadata": {},
   "outputs": [],
   "source": [
    "def subdivide_region(region, size, overlap):\n",
    "    x_min, y_min, x_max, y_max = region\n",
    "    overlap_size = round(size * overlap)\n",
    "    return [\n",
    "        (max(x_min, x), max(y_min, y), min(x_max, x + size), min(y_max, y + size))\n",
    "        for y in itertools.chain(range(y_min, y_max - size, size - overlap_size), [y_max - size])\n",
    "        for x in itertools.chain(range(x_min, x_max - size, size - overlap_size), [x_max - size])\n",
    "    ]\n",
    "\n",
    "def write_tiles(image, bbox, output_dir, plant_name, sample_name):\n",
    "    plant_dir = f'{output_dir}/{plant_name}'\n",
    "    if not os.path.exists(plant_dir):\n",
    "        os.makedirs(plant_dir)\n",
    "    x_min, y_min, x_max, y_max = bbox\n",
    "    subregions = subdivide_region(bbox, TILE_SIZE, TILE_OVERLAP)\n",
    "    for i, subregion in enumerate(subregions):\n",
    "        x_min_sub, y_min_sub, x_max_sub, y_max_sub = subregion\n",
    "        x_min_image = x_min_sub - x_min\n",
    "        y_min_image = y_min_sub - y_min\n",
    "        x_max_image = x_max_sub - x_min\n",
    "        y_max_image = y_max_sub - y_min\n",
    "        tile = np.zeros((TILE_SIZE, TILE_SIZE, 3))\n",
    "        content = image[y_min_image:y_max_image, x_min_image:x_max_image]\n",
    "        content_w = x_max_image - x_min_image\n",
    "        content_h = y_max_image - y_min_image\n",
    "        content_x = round((TILE_SIZE - content_w) / 2)\n",
    "        content_y = round((TILE_SIZE - content_h) / 2)\n",
    "        tile[content_y:content_y+content_h, content_x:content_x+content_w] = content\n",
    "        write_image(tile, f'{plant_dir}/{i}_{x_min_sub - content_x}_{y_min_sub - content_y}.jpg')\n",
    "        write_image(tile, f'{TILE_DIR}/{sample_name}__{plant_name}_{i}_{x_min_sub - content_x}_{y_min_sub - content_y}.jpg')"
   ]
  },
  {
   "cell_type": "code",
   "execution_count": null,
   "id": "eb2bc0c2",
   "metadata": {},
   "outputs": [],
   "source": [
    "def process_samples(experiment_name, sample_names):\n",
    "    print(f'Processing experiment {experiment_name}...')\n",
    "    for sample_name in sample_names:\n",
    "        sample_data = get_sample_data(experiment_name, sample_name)\n",
    "        if PLANT_TYPE not in sample_data['classes']:\n",
    "            print(f'  No {PLANT_TYPE} in {sample_name}; skipping')\n",
    "            continue\n",
    "        output_dir = f'{OUTPUT_DIR}/{experiment_name}/{sample_name}'\n",
    "        masks_dir = f'{output_dir}/masks'\n",
    "        masked_dir = f'{output_dir}/masked'\n",
    "        tiles_dir = f'{output_dir}/tiles'\n",
    "        for path in output_dir, masks_dir, masked_dir, tiles_dir:\n",
    "            if not os.path.exists(path):\n",
    "                os.makedirs(path)\n",
    "        sample_image = get_sample_image(experiment_name, sample_name)\n",
    "        annotated_image = sample_image.copy()\n",
    "        sample_image_dims = sample_image.shape[:2]\n",
    "        output_data = {}\n",
    "        for plant_id, plant_data in enumerate(sample_data['labels']):\n",
    "            if plant_data['class'] == PLANT_TYPE:\n",
    "                boundary = get_boundary_polygon(plant_data)\n",
    "                mask = cv2.fillPoly(np.zeros(sample_image_dims), boundary, color=255)\n",
    "                bbox = get_bounding_box(mask)\n",
    "                x, y, _, _ = bbox\n",
    "                output_data[plant_id] = {'area': np.count_nonzero(mask), 'bbox': bbox}\n",
    "                mask_cropped, masked_cropped = mask_crop_image(sample_image, mask, bbox)\n",
    "                plant_name = f'{plant_id}_{x}_{y}'\n",
    "                write_image(mask_cropped, f'{masks_dir}/{plant_name}.png')\n",
    "                write_image(mask_cropped, f'{MASK_DIR}/{sample_name}__{plant_name}.png')\n",
    "                write_image(masked_cropped, f'{masked_dir}/{plant_name}.jpg')\n",
    "                write_tiles(masked_cropped, bbox, tiles_dir, plant_name, sample_name)\n",
    "                add_annotation(annotated_image, boundary, bbox, plant_id)\n",
    "        write_sample_data(output_data, output_dir, sample_name)\n",
    "        write_image(annotated_image, f'{output_dir}/{sample_name}.jpg')"
   ]
  },
  {
   "cell_type": "code",
   "execution_count": null,
   "id": "9111f137",
   "metadata": {
    "scrolled": false
   },
   "outputs": [],
   "source": [
    "for experiment_name, sample_names in experiment_sample_names.items():\n",
    "    process_samples(experiment_name, sample_names)"
   ]
  },
  {
   "cell_type": "code",
   "execution_count": null,
   "id": "d3d4c261",
   "metadata": {},
   "outputs": [],
   "source": []
  }
 ],
 "metadata": {
  "kernelspec": {
   "display_name": "Python 3 (ipykernel)",
   "language": "python",
   "name": "python3"
  },
  "language_info": {
   "codemirror_mode": {
    "name": "ipython",
    "version": 3
   },
   "file_extension": ".py",
   "mimetype": "text/x-python",
   "name": "python",
   "nbconvert_exporter": "python",
   "pygments_lexer": "ipython3",
   "version": "3.9.12"
  }
 },
 "nbformat": 4,
 "nbformat_minor": 5
}
