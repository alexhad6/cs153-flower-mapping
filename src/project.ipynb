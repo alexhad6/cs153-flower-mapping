{
 "cells": [
  {
   "cell_type": "markdown",
   "id": "aabc0d94",
   "metadata": {},
   "source": [
    "# Imports"
   ]
  },
  {
   "cell_type": "code",
   "execution_count": 1,
   "id": "d26ba739",
   "metadata": {},
   "outputs": [],
   "source": [
    "import json\n",
    "import numpy as np\n",
    "import cv2\n",
    "import matplotlib.pyplot as plt\n",
    "from matplotlib.patches import Polygon"
   ]
  },
  {
   "cell_type": "markdown",
   "id": "942ebd10",
   "metadata": {},
   "source": [
    "# Configuration"
   ]
  },
  {
   "cell_type": "code",
   "execution_count": null,
   "id": "f4f54bd5",
   "metadata": {},
   "outputs": [],
   "source": [
    "data_dir = '../data'\n",
    "annotated_dir = '../annotated'\n",
    "experiment = '2017_6617East1'\n",
    "base_path = f'{data_dir}/{experiment}/{experiment}'\n",
    "json_path = base_path + '{}.json'\n",
    "image_path = base_path + '{}.JPG'"
   ]
  },
  {
   "cell_type": "markdown",
   "id": "f7681883",
   "metadata": {},
   "source": [
    "# Examine Data"
   ]
  },
  {
   "cell_type": "code",
   "execution_count": null,
   "id": "92b4aa2a",
   "metadata": {},
   "outputs": [],
   "source": [
    "import os\n",
    "import re"
   ]
  },
  {
   "cell_type": "code",
   "execution_count": null,
   "id": "3826a82a",
   "metadata": {
    "scrolled": true
   },
   "outputs": [],
   "source": [
    "i = 0\n",
    "for root, dirs, files in os.walk(data_dir):\n",
    "    for file in files:\n",
    "        _, ext = os.path.splitext(file)\n",
    "        if ext == '.json':\n",
    "#             if re.search(r'\\(\\d\\)', file):\n",
    "#                 i += 1\n",
    "            path = f'{root}/{file}'\n",
    "            with open(path) as f:\n",
    "                data = json.load(f)\n",
    "                if 'ERFA' in data['classes']:\n",
    "#                     i += 1\n",
    "                    i += sum(True for plant in data['labels'] if plant['class'] == 'ERFA')"
   ]
  },
  {
   "cell_type": "code",
   "execution_count": null,
   "id": "e773312c",
   "metadata": {},
   "outputs": [],
   "source": [
    "i"
   ]
  },
  {
   "cell_type": "code",
   "execution_count": null,
   "id": "fe6bf3c7",
   "metadata": {},
   "outputs": [],
   "source": [
    "i"
   ]
  },
  {
   "cell_type": "markdown",
   "id": "3b3fe55f",
   "metadata": {},
   "source": [
    "# Plotting Image"
   ]
  },
  {
   "cell_type": "code",
   "execution_count": null,
   "id": "946c6bf3",
   "metadata": {},
   "outputs": [],
   "source": [
    "for root, dirs, files in os.walk(data_dir):\n",
    "    for file in files:\n",
    "        _, ext = os.path.splitext(file)\n",
    "        if ext == '.json':"
   ]
  },
  {
   "cell_type": "code",
   "execution_count": null,
   "id": "d1654d55",
   "metadata": {},
   "outputs": [],
   "source": [
    "with open(json_path.format('DJI_0031')) as f:\n",
    "    data = json.load(f)\n",
    "\n",
    "sample_id = data['sample_id']\n",
    "image = cv2.imread(image_path.format(sample_id))\n",
    "\n",
    "num_ERFA = 0\n",
    "for plant in data['labels']:\n",
    "    if plant['class'] == 'ERFA':\n",
    "        polygon_flat = plant['segment']\n",
    "        polygon_points = np.reshape(polygon_flat, (len(polygon_flat) // 2, 2))\n",
    "        cv2.polylines(image, np.int32([polygon_points]), isClosed=True, color=(0, 0, 255), thickness=8)\n",
    "        num_ERFA += 1\n",
    "if num_ERFA > 0:\n",
    "    print(f'{annotated_dir}/{experiment}_{sample_id}.jpg')\n",
    "    cv2.imwrite(f'{annotated_dir}/{experiment}_{sample_id}.jpg', image)"
   ]
  },
  {
   "cell_type": "markdown",
   "id": "fbe7762d",
   "metadata": {},
   "source": [
    "# Helper Functions"
   ]
  },
  {
   "cell_type": "code",
   "execution_count": null,
   "id": "bd3efb20",
   "metadata": {},
   "outputs": [],
   "source": [
    "def plot_image(image):\n",
    "    fig, ax = plt.subplots(figsize=(12, 10))\n",
    "    ax.imshow(cv2.cvtColor(image, cv.COLOR_BGR2RGB))\n",
    "    ax.axis('off')\n",
    "    return fig, ax"
   ]
  },
  {
   "cell_type": "markdown",
   "id": "7f36b4d2",
   "metadata": {},
   "source": [
    "# Reading Images"
   ]
  },
  {
   "cell_type": "code",
   "execution_count": null,
   "id": "e408f0c2",
   "metadata": {},
   "outputs": [],
   "source": [
    "data_file = '2017_6217East/2017_6217EastDJI_0059.json'"
   ]
  },
  {
   "cell_type": "code",
   "execution_count": null,
   "id": "3cf4ee7a",
   "metadata": {},
   "outputs": [],
   "source": [
    "directory = '2017_6217East'"
   ]
  },
  {
   "cell_type": "code",
   "execution_count": null,
   "id": "6c40d4bd",
   "metadata": {},
   "outputs": [],
   "source": [
    "image_path = lambda sample_id: f'{directory}/{directory}{sample_id}.JPG'"
   ]
  },
  {
   "cell_type": "code",
   "execution_count": null,
   "id": "1f8ca210",
   "metadata": {},
   "outputs": [],
   "source": [
    "with open(f'{directory}/{directory}DJI_0059.json') as f:\n",
    "    data = json.load(f)"
   ]
  },
  {
   "cell_type": "code",
   "execution_count": null,
   "id": "be66f723",
   "metadata": {},
   "outputs": [],
   "source": [
    "image = cv2.imread(image_path(data['sample_id']))"
   ]
  },
  {
   "cell_type": "code",
   "execution_count": null,
   "id": "e274f413",
   "metadata": {},
   "outputs": [],
   "source": [
    "fig, ax = plot_image(image)\n",
    "for plant in data['labels']:\n",
    "    polygon_flat = plant['segment']\n",
    "    polygon_points = np.reshape(polygon_flat, (len(polygon_flat)//2, 2))\n",
    "    ax.add_patch(Polygon(polygon_points, fill=False, edgecolor='red', linewidth=2))"
   ]
  },
  {
   "cell_type": "code",
   "execution_count": null,
   "id": "861e5125",
   "metadata": {},
   "outputs": [],
   "source": []
  }
 ],
 "metadata": {
  "kernelspec": {
   "display_name": "Python 3 (ipykernel)",
   "language": "python",
   "name": "python3"
  },
  "language_info": {
   "codemirror_mode": {
    "name": "ipython",
    "version": 3
   },
   "file_extension": ".py",
   "mimetype": "text/x-python",
   "name": "python",
   "nbconvert_exporter": "python",
   "pygments_lexer": "ipython3",
   "version": "3.9.10"
  }
 },
 "nbformat": 4,
 "nbformat_minor": 5
}
